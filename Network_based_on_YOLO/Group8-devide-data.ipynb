{
 "cells": [
  {
   "cell_type": "code",
   "execution_count": 1,
   "metadata": {},
   "outputs": [],
   "source": [
    "# select u% pictures from each class\n",
    "# seperate the selected pictures into training set (train_u%) and testing set (test_u%)\n",
    "\n",
    "import random as rm\n",
    "import os\n",
    "from shutil import copyfile, rmtree\n",
    "import torch"
   ]
  },
  {
   "cell_type": "code",
   "execution_count": 2,
   "metadata": {},
   "outputs": [
    {
     "name": "stdout",
     "output_type": "stream",
     "text": [
      "D:\\download\\DACcontest\\data_training_V4\\train_data\\ D:\\download\\DACcontest\\data_training_V4\\train_label\\\n",
      "D:\\download\\DACcontest\\data_training_V4\\test_data\\ D:\\download\\DACcontest\\data_training_V4\\test_label\\\n",
      "D:\\download\\DACcontest\\data\\ D:\\download\\DACcontest\\label\\\n"
     ]
    }
   ],
   "source": [
    "raw_dir =\"D:\\download\\DACcontest\\data_training_V4\\data_training\\\\\"\n",
    "train_data_dir = \"D:\\download\\DACcontest\\data_training_V4\"+\"\\\\train_data\\\\\"\n",
    "train_label_dir = \"D:\\download\\DACcontest\\data_training_V4\" + \"\\\\train_label\\\\\"\n",
    "test_data_dir = \"D:\\download\\DACcontest\\data_training_V4\" + \"\\\\test_data\\\\\"\n",
    "test_label_dir = \"D:\\download\\DACcontest\\data_training_V4\" + \"\\\\test_label\\\\\"\n",
    "data_dir=\"D:\\download\\DACcontest\" + \"\\\\data\\\\\"\n",
    "label_dir=\"D:\\download\\DACcontest\" + \"\\\\label\\\\\"\n",
    "print(train_data_dir,train_label_dir)\n",
    "print(test_data_dir,test_label_dir)\n",
    "print(data_dir,label_dir)"
   ]
  },
  {
   "cell_type": "code",
   "execution_count": 19,
   "metadata": {},
   "outputs": [
    {
     "name": "stdout",
     "output_type": "stream",
     "text": [
      "D:\\download\\segment\\segment2\\ D:\\download\\segment\\segment2\\\n"
     ]
    }
   ],
   "source": [
    "raw_dir =\"D:\\download\\DACcontest\\data_training_V4\\data_training\\\\\"\n",
    "data_dir=\"D:\\download\\segment\\segment2\\\\\"\n",
    "label_dir=data_dir\n",
    "print(data_dir,label_dir)"
   ]
  },
  {
   "cell_type": "code",
   "execution_count": 24,
   "metadata": {},
   "outputs": [
    {
     "name": "stdout",
     "output_type": "stream",
     "text": [
      "D:\\download\\DACcontest\\data_training_V4\\data_training\\riding9\n",
      "0\n",
      "446\n"
     ]
    }
   ],
   "source": [
    "ratio=3\n",
    "accratio=2*ratio\n",
    "\n",
    "global_num=0    # for all images\n",
    "\n",
    "local_num=0 # for images in a floder\n",
    "local_dir=raw_dir + \"riding9\"\n",
    "print(local_dir)\n",
    "print(global_num)\n",
    "justnow=0\n",
    "for filename in os.listdir(local_dir):\n",
    "    if (local_num%accratio==0):\n",
    "        copyfile(local_dir +'\\\\'+ filename, data_dir +\"riding\"+ filename)\n",
    "        justnow=1\n",
    "        global_num+=1\n",
    "    elif justnow==1 :\n",
    "        copyfile(local_dir + '\\\\' +filename, label_dir +\"riding\"+ filename)\n",
    "        justnow=0\n",
    "        global_num+=1\n",
    "    local_num=local_num+1\n",
    "        \n",
    "print(global_num)"
   ]
  },
  {
   "cell_type": "code",
   "execution_count": 8,
   "metadata": {},
   "outputs": [],
   "source": [
    "# delete origin files in these folders\n",
    "rmtree(train_data_dir)\n",
    "os.makedirs(train_data_dir)\n",
    "rmtree(train_label_dir)\n",
    "os.makedirs(train_label_dir)\n",
    "rmtree(test_data_dir)\n",
    "os.makedirs(test_data_dir)\n",
    "rmtree(test_label_dir)\n",
    "os.makedirs(test_label_dir)"
   ]
  },
  {
   "cell_type": "code",
   "execution_count": 3,
   "metadata": {
    "scrolled": false
   },
   "outputs": [
    {
     "name": "stdout",
     "output_type": "stream",
     "text": [
      "boat1\n",
      "D:\\download\\DACcontest\\data_training_V4\\data_training\\boat1/\n",
      "000001.jpg\n",
      "000001.xml\n",
      "000002.jpg\n",
      "000002.xml\n",
      "000003.jpg\n",
      "000003.xml\n",
      "000004.jpg\n",
      "000004.xml\n",
      "000005.jpg\n",
      "000005.xml\n",
      "000006.jpg\n",
      "000006.xml\n",
      "000007.jpg\n",
      "000007.xml\n",
      "000008.jpg\n",
      "000008.xml\n",
      "000009.jpg\n",
      "000009.xml\n",
      "000010.jpg\n",
      "000010.xml\n"
     ]
    }
   ],
   "source": [
    "raw_list=os.listdir(raw_dir)\n",
    "print(raw_list[0])\n",
    "local_dir=raw_dir + raw_list[0] + \"/\"\n",
    "print(local_dir)\n",
    "num=0\n",
    "for filename in os.listdir(local_dir):\n",
    "    print(filename)\n",
    "    num=num+1\n",
    "    if num==20 :\n",
    "        break"
   ]
  },
  {
   "cell_type": "code",
   "execution_count": 13,
   "metadata": {},
   "outputs": [],
   "source": [
    "del raw_list\n",
    "del local_dir\n",
    "del filename "
   ]
  },
  {
   "cell_type": "code",
   "execution_count": 18,
   "metadata": {
    "scrolled": false
   },
   "outputs": [
    {
     "name": "stdout",
     "output_type": "stream",
     "text": [
      "D:\\download\\DACcontest\\data_training_V4\\data_training\\boat1\n",
      "0\n",
      "D:\\download\\DACcontest\\data_training_V4\\data_training\\boat2\n",
      "118\n",
      "D:\\download\\DACcontest\\data_training_V4\\data_training\\boat3\n",
      "218\n",
      "D:\\download\\DACcontest\\data_training_V4\\data_training\\boat4\n",
      "336\n",
      "D:\\download\\DACcontest\\data_training_V4\\data_training\\boat5\n",
      "428\n",
      "D:\\download\\DACcontest\\data_training_V4\\data_training\\boat6\n",
      "696\n",
      "D:\\download\\DACcontest\\data_training_V4\\data_training\\boat7\n",
      "800\n",
      "D:\\download\\DACcontest\\data_training_V4\\data_training\\boat8\n",
      "964\n",
      "D:\\download\\DACcontest\\data_training_V4\\data_training\\building1\n",
      "1050\n",
      "D:\\download\\DACcontest\\data_training_V4\\data_training\\building2\n",
      "1158\n",
      "D:\\download\\DACcontest\\data_training_V4\\data_training\\building3\n",
      "1258\n",
      "D:\\download\\DACcontest\\data_training_V4\\data_training\\car1\n",
      "1322\n",
      "D:\\download\\DACcontest\\data_training_V4\\data_training\\car10\n",
      "1406\n",
      "D:\\download\\DACcontest\\data_training_V4\\data_training\\car11\n",
      "1720\n",
      "D:\\download\\DACcontest\\data_training_V4\\data_training\\car12\n",
      "2144\n",
      "D:\\download\\DACcontest\\data_training_V4\\data_training\\car13\n",
      "2346\n",
      "D:\\download\\DACcontest\\data_training_V4\\data_training\\car14\n",
      "2632\n",
      "D:\\download\\DACcontest\\data_training_V4\\data_training\\car15\n",
      "2800\n",
      "D:\\download\\DACcontest\\data_training_V4\\data_training\\car16\n",
      "3060\n",
      "D:\\download\\DACcontest\\data_training_V4\\data_training\\car17\n",
      "3176\n",
      "D:\\download\\DACcontest\\data_training_V4\\data_training\\car18\n",
      "3444\n",
      "D:\\download\\DACcontest\\data_training_V4\\data_training\\car19\n",
      "3594\n",
      "D:\\download\\DACcontest\\data_training_V4\\data_training\\car2\n",
      "3712\n",
      "D:\\download\\DACcontest\\data_training_V4\\data_training\\car20\n",
      "3894\n",
      "D:\\download\\DACcontest\\data_training_V4\\data_training\\car21\n",
      "4114\n",
      "D:\\download\\DACcontest\\data_training_V4\\data_training\\car22\n",
      "4420\n",
      "D:\\download\\DACcontest\\data_training_V4\\data_training\\car23\n",
      "4590\n",
      "D:\\download\\DACcontest\\data_training_V4\\data_training\\car24\n",
      "4950\n",
      "D:\\download\\DACcontest\\data_training_V4\\data_training\\car3\n",
      "5430\n",
      "D:\\download\\DACcontest\\data_training_V4\\data_training\\car4\n",
      "5654\n",
      "D:\\download\\DACcontest\\data_training_V4\\data_training\\car5\n",
      "5832\n",
      "D:\\download\\DACcontest\\data_training_V4\\data_training\\car6\n",
      "5924\n",
      "D:\\download\\DACcontest\\data_training_V4\\data_training\\car8\n",
      "6044\n",
      "D:\\download\\DACcontest\\data_training_V4\\data_training\\car9\n",
      "6226\n",
      "D:\\download\\DACcontest\\data_training_V4\\data_training\\drone1\n",
      "6344\n",
      "D:\\download\\DACcontest\\data_training_V4\\data_training\\drone2\n",
      "6522\n",
      "D:\\download\\DACcontest\\data_training_V4\\data_training\\drone3\n",
      "6616\n",
      "D:\\download\\DACcontest\\data_training_V4\\data_training\\drone4\n",
      "6734\n",
      "D:\\download\\DACcontest\\data_training_V4\\data_training\\group2\n",
      "6862\n",
      "D:\\download\\DACcontest\\data_training_V4\\data_training\\group3\n",
      "7170\n",
      "D:\\download\\DACcontest\\data_training_V4\\data_training\\horseride1\n",
      "7828\n",
      "D:\\download\\DACcontest\\data_training_V4\\data_training\\paraglider1\n",
      "7966\n",
      "D:\\download\\DACcontest\\data_training_V4\\data_training\\person1\n",
      "8306\n",
      "D:\\download\\DACcontest\\data_training_V4\\data_training\\person10\n",
      "8506\n",
      "D:\\download\\DACcontest\\data_training_V4\\data_training\\person11\n",
      "8702\n",
      "D:\\download\\DACcontest\\data_training_V4\\data_training\\person12\n",
      "8798\n",
      "D:\\download\\DACcontest\\data_training_V4\\data_training\\person13\n",
      "9006\n",
      "D:\\download\\DACcontest\\data_training_V4\\data_training\\person14\n",
      "9118\n",
      "D:\\download\\DACcontest\\data_training_V4\\data_training\\person15\n",
      "9410\n",
      "D:\\download\\DACcontest\\data_training_V4\\data_training\\person16\n",
      "9578\n",
      "D:\\download\\DACcontest\\data_training_V4\\data_training\\person17\n",
      "9712\n",
      "D:\\download\\DACcontest\\data_training_V4\\data_training\\person18\n",
      "10020\n",
      "D:\\download\\DACcontest\\data_training_V4\\data_training\\person19\n",
      "10192\n",
      "D:\\download\\DACcontest\\data_training_V4\\data_training\\person2\n",
      "10716\n",
      "D:\\download\\DACcontest\\data_training_V4\\data_training\\person20\n",
      "10858\n",
      "D:\\download\\DACcontest\\data_training_V4\\data_training\\person21\n",
      "11124\n",
      "D:\\download\\DACcontest\\data_training_V4\\data_training\\person22\n",
      "11190\n",
      "D:\\download\\DACcontest\\data_training_V4\\data_training\\person23\n",
      "11656\n",
      "D:\\download\\DACcontest\\data_training_V4\\data_training\\person24\n",
      "11852\n",
      "D:\\download\\DACcontest\\data_training_V4\\data_training\\person25\n",
      "11962\n",
      "D:\\download\\DACcontest\\data_training_V4\\data_training\\person26\n",
      "12182\n",
      "D:\\download\\DACcontest\\data_training_V4\\data_training\\person27\n",
      "12378\n",
      "D:\\download\\DACcontest\\data_training_V4\\data_training\\person28\n",
      "12616\n",
      "D:\\download\\DACcontest\\data_training_V4\\data_training\\person29\n",
      "12758\n",
      "D:\\download\\DACcontest\\data_training_V4\\data_training\\person3\n",
      "12926\n",
      "D:\\download\\DACcontest\\data_training_V4\\data_training\\person4\n",
      "13010\n",
      "D:\\download\\DACcontest\\data_training_V4\\data_training\\person5\n",
      "13352\n",
      "D:\\download\\DACcontest\\data_training_V4\\data_training\\person6\n",
      "13614\n",
      "D:\\download\\DACcontest\\data_training_V4\\data_training\\person7\n",
      "13700\n",
      "D:\\download\\DACcontest\\data_training_V4\\data_training\\person8\n",
      "13738\n",
      "D:\\download\\DACcontest\\data_training_V4\\data_training\\person9\n",
      "13876\n",
      "D:\\download\\DACcontest\\data_training_V4\\data_training\\riding1\n",
      "13922\n",
      "D:\\download\\DACcontest\\data_training_V4\\data_training\\riding10\n",
      "14336\n",
      "D:\\download\\DACcontest\\data_training_V4\\data_training\\riding11\n",
      "14562\n",
      "D:\\download\\DACcontest\\data_training_V4\\data_training\\riding12\n",
      "14720\n",
      "D:\\download\\DACcontest\\data_training_V4\\data_training\\riding13\n",
      "15094\n",
      "D:\\download\\DACcontest\\data_training_V4\\data_training\\riding14\n",
      "15420\n",
      "D:\\download\\DACcontest\\data_training_V4\\data_training\\riding15\n",
      "15604\n",
      "D:\\download\\DACcontest\\data_training_V4\\data_training\\riding16\n",
      "15742\n",
      "D:\\download\\DACcontest\\data_training_V4\\data_training\\riding17\n",
      "15872\n",
      "D:\\download\\DACcontest\\data_training_V4\\data_training\\riding2\n",
      "16082\n",
      "D:\\download\\DACcontest\\data_training_V4\\data_training\\riding3\n",
      "16174\n",
      "D:\\download\\DACcontest\\data_training_V4\\data_training\\riding4\n",
      "16240\n",
      "D:\\download\\DACcontest\\data_training_V4\\data_training\\riding5\n",
      "16422\n",
      "D:\\download\\DACcontest\\data_training_V4\\data_training\\riding6\n",
      "16746\n",
      "D:\\download\\DACcontest\\data_training_V4\\data_training\\riding7\n",
      "16894\n",
      "D:\\download\\DACcontest\\data_training_V4\\data_training\\riding8\n",
      "17032\n",
      "D:\\download\\DACcontest\\data_training_V4\\data_training\\riding9\n",
      "17204\n",
      "D:\\download\\DACcontest\\data_training_V4\\data_training\\truck1\n",
      "17338\n",
      "D:\\download\\DACcontest\\data_training_V4\\data_training\\truck2\n",
      "17658\n",
      "D:\\download\\DACcontest\\data_training_V4\\data_training\\wakeboard1\n",
      "17814\n",
      "D:\\download\\DACcontest\\data_training_V4\\data_training\\wakeboard2\n",
      "17914\n",
      "D:\\download\\DACcontest\\data_training_V4\\data_training\\wakeboard3\n",
      "18136\n",
      "D:\\download\\DACcontest\\data_training_V4\\data_training\\wakeboard4\n",
      "18288\n",
      "D:\\download\\DACcontest\\data_training_V4\\data_training\\whale1\n",
      "18478\n",
      "18786\n"
     ]
    }
   ],
   "source": [
    "ratio=10\n",
    "accratio=2*ratio\n",
    "\n",
    "global_num=0    # for all images\n",
    "for cls in os.listdir(raw_dir):\n",
    "    local_num=0 # for images in a floder\n",
    "    local_dir=raw_dir + cls\n",
    "    print(local_dir)\n",
    "    print(global_num)\n",
    "    justnow=0\n",
    "    for filename in os.listdir(local_dir):\n",
    "        if (local_num%accratio==0):\n",
    "            copyfile(local_dir +'\\\\'+ filename, data_dir + cls + '_' + filename)\n",
    "            justnow=1\n",
    "            global_num+=1\n",
    "        elif justnow==1 :\n",
    "            copyfile(local_dir + '\\\\' +filename, label_dir + cls + '_' + filename)\n",
    "            justnow=0\n",
    "            global_num+=1\n",
    "        local_num=local_num+1\n",
    "        \n",
    "print(global_num)\n",
    "        "
   ]
  },
  {
   "cell_type": "code",
   "execution_count": 42,
   "metadata": {},
   "outputs": [
    {
     "name": "stdout",
     "output_type": "stream",
     "text": [
      "18742.0\n",
      "torch.Size([18742])\n",
      "1 tensor(0, dtype=torch.int8)\n",
      "yes\n",
      "tensor(0, dtype=torch.int8)\n",
      "tensor([1, 1, 1, 1, 1, 1, 1, 1, 1, 1], dtype=torch.int8)\n"
     ]
    },
    {
     "data": {
      "text/plain": [
       "'D:\\\\download\\\\DACcontest\\\\data_training_V4\\\\data_training\\\\boat1_000001.jpg'"
      ]
     },
     "execution_count": 42,
     "metadata": {},
     "output_type": "execute_result"
    }
   ],
   "source": [
    "global_num=18786\n",
    "print(global_num/2)\n",
    "randd=torch.zeros(10,dtype=torch.int8)\n",
    "print(rand.size())\n",
    "print(rand.dim(),rand[12])\n",
    "if rand[10000]==0 :\n",
    "    print('yes')\n",
    "print(rand[1000])\n",
    "rm.seed(datetime.now())\n",
    "#for i in range(10):\n",
    "#    print(rm.randint(0,5))\n",
    "\n",
    "i=0\n",
    "while i<10 :\n",
    "    rm_num=rm.randint(0,9)\n",
    "    if randd[rm_num]==0 :\n",
    "        randd[rm_num]=1\n",
    "        i=i+1\n",
    "    else:\n",
    "        continue\n",
    "print(randd)\n",
    "\n",
    "filename=\"boat1_000001.jpg\"\n",
    "copyfile(data_dir + filename, raw_dir + filename)"
   ]
  },
  {
   "cell_type": "code",
   "execution_count": 3,
   "metadata": {},
   "outputs": [
    {
     "name": "stdout",
     "output_type": "stream",
     "text": [
      "D:\\download\\DACcontest\\data_training_V4\\train_data\\ D:\\download\\DACcontest\\data_training_V4\\train_label\\\n",
      "D:\\download\\DACcontest\\data_training_V4\\test_data\\ D:\\download\\DACcontest\\data_training_V4\\test_label\\\n",
      "D:\\download\\DACcontest\\data_training_V4\\small_data\\ D:\\download\\DACcontest\\data_training_V4\\small_label\\\n"
     ]
    }
   ],
   "source": [
    "import time\n",
    "rm.seed(time.time())\n",
    "small_num=893\n",
    "test_num=2500\n",
    "train_num=6000\n",
    "total_num=9393\n",
    "rand=torch.zeros(total_num,dtype=torch.int8)\n",
    "\n",
    "# set the rand[] for small scale test\n",
    "i=0\n",
    "while i<small_num :\n",
    "    rm_num=rm.randint(0,total_num-1)\n",
    "    if rand[rm_num]==0 :\n",
    "        rand[rm_num]=1\n",
    "        i=i+1\n",
    "    else :\n",
    "        continue\n",
    "\n",
    "# set the rand[] for large scale test/inference\n",
    "i=0\n",
    "while i<test_num :\n",
    "    rm_num=rm.randint(0,total_num-1)\n",
    "    if rand[rm_num]==0 :\n",
    "        rand[rm_num]=2\n",
    "        i=i+1\n",
    "    else :\n",
    "        continue\n",
    "\n",
    "data_dir=\"D:\\download\\DACcontest\" + \"\\\\data\\\\\"\n",
    "label_dir=\"D:\\download\\DACcontest\" + \"\\\\label\\\\\"\n",
    "train_data_dir = \"D:\\download\\DACcontest\\data_training_V4\"+\"\\\\train_data\\\\\"\n",
    "train_label_dir = \"D:\\download\\DACcontest\\data_training_V4\" + \"\\\\train_label\\\\\"\n",
    "test_data_dir = \"D:\\download\\DACcontest\\data_training_V4\" + \"\\\\test_data\\\\\"\n",
    "test_label_dir = \"D:\\download\\DACcontest\\data_training_V4\" + \"\\\\test_label\\\\\"\n",
    "small_data_dir = \"D:\\download\\DACcontest\\data_training_V4\" + \"\\\\small_data\\\\\"\n",
    "small_label_dir = \"D:\\download\\DACcontest\\data_training_V4\" + \"\\\\small_label\\\\\"\n",
    "print(train_data_dir,train_label_dir)\n",
    "print(test_data_dir,test_label_dir)\n",
    "print(small_data_dir,small_label_dir)\n",
    "\n"
   ]
  },
  {
   "cell_type": "code",
   "execution_count": 4,
   "metadata": {},
   "outputs": [
    {
     "name": "stdout",
     "output_type": "stream",
     "text": [
      "tensor([0, 0, 0, 0, 0, 2, 2, 0, 0, 2, 0, 0, 0, 2, 0, 0, 1, 0, 0, 0],\n",
      "       dtype=torch.int8)\n"
     ]
    }
   ],
   "source": [
    "print(rand[0:20])"
   ]
  },
  {
   "cell_type": "code",
   "execution_count": 5,
   "metadata": {},
   "outputs": [
    {
     "name": "stdout",
     "output_type": "stream",
     "text": [
      "9393\n",
      "9393\n"
     ]
    }
   ],
   "source": [
    "global_num=0    # for all images\n",
    "for filename in os.listdir(data_dir):\n",
    "        if (rand[global_num]==1):\n",
    "            copyfile(data_dir + filename, small_data_dir + filename)\n",
    "        elif(rand[global_num]==2):\n",
    "            copyfile(data_dir + filename, test_data_dir + filename)\n",
    "        else :\n",
    "            copyfile(data_dir + filename, train_data_dir + filename)\n",
    "        global_num+=1    \n",
    "print(global_num)\n",
    "\n",
    "global_num=0    # for all xmls\n",
    "for filename in os.listdir(label_dir):\n",
    "        if (rand[global_num]==1):\n",
    "            copyfile(label_dir + filename, small_label_dir + filename)\n",
    "        elif(rand[global_num]==2):\n",
    "            copyfile(label_dir + filename, test_label_dir + filename)\n",
    "        else :\n",
    "            copyfile(label_dir + filename, train_label_dir + filename)\n",
    "        global_num+=1    \n",
    "print(global_num)"
   ]
  },
  {
   "cell_type": "code",
   "execution_count": 7,
   "metadata": {},
   "outputs": [
    {
     "name": "stdout",
     "output_type": "stream",
     "text": [
      "[0 1 2 3 4 5 6 7 8 9]\n",
      "[3499 3102 3803 5794 2095 4659 5371 4848 5152 5683]\n"
     ]
    }
   ],
   "source": [
    "import numpy as np\n",
    "train=np.arange(6000)\n",
    "print(train[0:10])\n",
    "np.random.shuffle(train)\n",
    "print(train[0:10])"
   ]
  },
  {
   "cell_type": "code",
   "execution_count": 8,
   "metadata": {},
   "outputs": [
    {
     "name": "stdout",
     "output_type": "stream",
     "text": [
      "C:\\Users\\Shaun\\CE7454_2018\\codes\\DeepLearning\\train_data\\\n",
      "C:\\Users\\Shaun\\CE7454_2018\\codes\\DeepLearning\\train_label\\\n"
     ]
    }
   ],
   "source": [
    "local_dir=os.getcwd()+\"\\\\train_data\\\\\"\n",
    "print(local_dir)\n",
    "\n",
    "i=0\n",
    "for filename in os.listdir(local_dir):\n",
    "    newname=\"mytrain\"+str(train[i])+\".jpg\"\n",
    "    os.rename(local_dir+filename,local_dir+newname)\n",
    "    i=i+1\n",
    "\n",
    "i=0\n",
    "local_dir=os.getcwd()+\"\\\\train_label\\\\\"\n",
    "print(local_dir)\n",
    "for filename in os.listdir(local_dir):\n",
    "    newname=\"mytrain\"+str(train[i])+\".xml\"\n",
    "    os.rename(local_dir+filename,local_dir+newname)\n",
    "    i=i+1"
   ]
  },
  {
   "cell_type": "code",
   "execution_count": 8,
   "metadata": {},
   "outputs": [
    {
     "name": "stdout",
     "output_type": "stream",
     "text": [
      "boat1_000021.jpg\n"
     ]
    }
   ],
   "source": [
    "print(filename)"
   ]
  },
  {
   "cell_type": "code",
   "execution_count": 9,
   "metadata": {},
   "outputs": [
    {
     "name": "stdout",
     "output_type": "stream",
     "text": [
      "[0 1 2 3 4 5 6 7 8 9]\n",
      "[  12  664 1909 2197  494 2241 2189 1269 1183 2143]\n"
     ]
    }
   ],
   "source": [
    "test=np.arange(2500)\n",
    "print(test[0:10])\n",
    "np.random.shuffle(test)\n",
    "print(test[0:10])"
   ]
  },
  {
   "cell_type": "code",
   "execution_count": 10,
   "metadata": {},
   "outputs": [
    {
     "name": "stdout",
     "output_type": "stream",
     "text": [
      "C:\\Users\\Shaun\\CE7454_2018\\codes\\DeepLearning\\test_data\\\n",
      "C:\\Users\\Shaun\\CE7454_2018\\codes\\DeepLearning\\test_label\\\n"
     ]
    }
   ],
   "source": [
    "local_dir=os.getcwd()+\"\\\\test_data\\\\\"\n",
    "print(local_dir)\n",
    "\n",
    "i=0\n",
    "for filename in os.listdir(local_dir):\n",
    "    newname=\"test\"+str(test[i])+\".jpg\"\n",
    "    os.rename(local_dir+filename,local_dir+newname)\n",
    "    i=i+1\n",
    "\n",
    "i=0\n",
    "local_dir=os.getcwd()+\"\\\\test_label\\\\\"\n",
    "print(local_dir)\n",
    "for filename in os.listdir(local_dir):\n",
    "    newname=\"test\"+str(test[i])+\".xml\"\n",
    "    os.rename(local_dir+filename,local_dir+newname)\n",
    "    i=i+1"
   ]
  },
  {
   "cell_type": "code",
   "execution_count": 11,
   "metadata": {},
   "outputs": [
    {
     "name": "stdout",
     "output_type": "stream",
     "text": [
      "[0 1 2 3 4 5 6 7 8 9]\n",
      "[599 760 571 244 882 686  36  78 383 177]\n"
     ]
    }
   ],
   "source": [
    "small=np.arange(900)\n",
    "print(small[0:10])\n",
    "np.random.shuffle(small)\n",
    "print(small[0:10])"
   ]
  },
  {
   "cell_type": "code",
   "execution_count": 12,
   "metadata": {},
   "outputs": [
    {
     "name": "stdout",
     "output_type": "stream",
     "text": [
      "C:\\Users\\Shaun\\CE7454_2018\\codes\\DeepLearning\\small_data\\\n",
      "C:\\Users\\Shaun\\CE7454_2018\\codes\\DeepLearning\\small_label\\\n"
     ]
    }
   ],
   "source": [
    "local_dir=os.getcwd()+\"\\\\small_data\\\\\"\n",
    "print(local_dir)\n",
    "\n",
    "i=0\n",
    "for filename in os.listdir(local_dir):\n",
    "    newname=\"small\"+str(small[i])+\".jpg\"\n",
    "    os.rename(local_dir+filename,local_dir+newname)\n",
    "    i=i+1\n",
    "\n",
    "i=0\n",
    "local_dir=os.getcwd()+\"\\\\small_label\\\\\"\n",
    "print(local_dir)\n",
    "for filename in os.listdir(local_dir):\n",
    "    newname=\"small\"+str(small[i])+\".xml\"\n",
    "    os.rename(local_dir+filename,local_dir+newname)\n",
    "    i=i+1"
   ]
  },
  {
   "cell_type": "code",
   "execution_count": null,
   "metadata": {},
   "outputs": [],
   "source": []
  }
 ],
 "metadata": {
  "kernelspec": {
   "display_name": "Python 3",
   "language": "python",
   "name": "python3"
  },
  "language_info": {
   "codemirror_mode": {
    "name": "ipython",
    "version": 3
   },
   "file_extension": ".py",
   "mimetype": "text/x-python",
   "name": "python",
   "nbconvert_exporter": "python",
   "pygments_lexer": "ipython3",
   "version": "3.6.6"
  }
 },
 "nbformat": 4,
 "nbformat_minor": 2
}
